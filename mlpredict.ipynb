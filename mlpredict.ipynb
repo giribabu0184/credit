{
 "cells": [
  {
   "cell_type": "code",
   "execution_count": 3,
   "id": "823669aa-c0fa-467b-8e15-c87897a0a31d",
   "metadata": {},
   "outputs": [
    {
     "name": "stdout",
     "output_type": "stream",
     "text": [
      "enter the required details below\n"
     ]
    },
    {
     "name": "stdin",
     "output_type": "stream",
     "text": [
      "0-female,1-male :- 1\n",
      "enter your dob yymmdd :- 1993 1 1\n",
      "enter debt :- 5\n",
      "0-single/divorced,1-married :- 1\n",
      "0-not have bank account,1-have bank account :- 0\n",
      "'CommunicationServices':0,'ConsumerDiscretionary':1,'ConsumerStaples':2,'Education':3,'Energy':4,'Financials':5,'Healthcare':6,'Industrials':7,'InformationTechnology':8,'Materials':9,'Real Estate':10,'Research':11,'Transport':12,'Utilities':13 :- 5\n",
      "'Asian':0,'Black':1,'Latino':2,'Other':3,'White':4 :- 0\n",
      "years employed or experience :- 2\n",
      "0-no prior defaults,1-prior defaults :- 1\n",
      "0-not employed,1-enployed :- 0\n",
      "credit score 0-85 :- 5\n",
      "0-no license,1-has license :- 0\n",
      "'ByBirth':0,'ByOtherMeans':1,'Temporary':2 :- 0\n",
      "zipcode :- 452\n",
      "income :- 0\n"
     ]
    },
    {
     "name": "stderr",
     "output_type": "stream",
     "text": [
      "C:\\Users\\HP\\AppData\\Local\\Temp\\ipykernel_2072\\1928604172.py:17: FutureWarning: A value is trying to be set on a copy of a DataFrame or Series through chained assignment using an inplace method.\n",
      "The behavior will change in pandas 3.0. This inplace method will never work because the intermediate object on which we are setting values always behaves as a copy.\n",
      "\n",
      "For example, when doing 'df[col].method(value, inplace=True)', try using 'df.method({col: value}, inplace=True)' or df[col] = df[col].method(value) instead, to perform the operation inplace on the original object.\n",
      "\n",
      "\n",
      "  df.Industry.replace({'CommunicationServices':0,'ConsumerDiscretionary':1,'ConsumerStaples':2,'Education':3,'Energy':4,'Financials':5,'Healthcare':6,'Industrials':7,'InformationTechnology':8,'Materials':9,'Real Estate':10,'Research':11,'Transport':12,'Utilities':13},inplace=True)\n",
      "C:\\Users\\HP\\AppData\\Local\\Temp\\ipykernel_2072\\1928604172.py:17: FutureWarning: Downcasting behavior in `replace` is deprecated and will be removed in a future version. To retain the old behavior, explicitly call `result.infer_objects(copy=False)`. To opt-in to the future behavior, set `pd.set_option('future.no_silent_downcasting', True)`\n",
      "  df.Industry.replace({'CommunicationServices':0,'ConsumerDiscretionary':1,'ConsumerStaples':2,'Education':3,'Energy':4,'Financials':5,'Healthcare':6,'Industrials':7,'InformationTechnology':8,'Materials':9,'Real Estate':10,'Research':11,'Transport':12,'Utilities':13},inplace=True)\n",
      "C:\\Users\\HP\\AppData\\Local\\Temp\\ipykernel_2072\\1928604172.py:18: FutureWarning: A value is trying to be set on a copy of a DataFrame or Series through chained assignment using an inplace method.\n",
      "The behavior will change in pandas 3.0. This inplace method will never work because the intermediate object on which we are setting values always behaves as a copy.\n",
      "\n",
      "For example, when doing 'df[col].method(value, inplace=True)', try using 'df.method({col: value}, inplace=True)' or df[col] = df[col].method(value) instead, to perform the operation inplace on the original object.\n",
      "\n",
      "\n",
      "  df.Ethnicity.replace({'Asian':0,'Black':1,'Latino':2,'Other':3,'White':4},inplace=True)\n",
      "C:\\Users\\HP\\AppData\\Local\\Temp\\ipykernel_2072\\1928604172.py:18: FutureWarning: Downcasting behavior in `replace` is deprecated and will be removed in a future version. To retain the old behavior, explicitly call `result.infer_objects(copy=False)`. To opt-in to the future behavior, set `pd.set_option('future.no_silent_downcasting', True)`\n",
      "  df.Ethnicity.replace({'Asian':0,'Black':1,'Latino':2,'Other':3,'White':4},inplace=True)\n",
      "C:\\Users\\HP\\AppData\\Local\\Temp\\ipykernel_2072\\1928604172.py:19: FutureWarning: A value is trying to be set on a copy of a DataFrame or Series through chained assignment using an inplace method.\n",
      "The behavior will change in pandas 3.0. This inplace method will never work because the intermediate object on which we are setting values always behaves as a copy.\n",
      "\n",
      "For example, when doing 'df[col].method(value, inplace=True)', try using 'df.method({col: value}, inplace=True)' or df[col] = df[col].method(value) instead, to perform the operation inplace on the original object.\n",
      "\n",
      "\n",
      "  df.Citizen.replace({'ByBirth':0,'ByOtherMeans':1,'Temporary':2},inplace=True)\n",
      "C:\\Users\\HP\\AppData\\Local\\Temp\\ipykernel_2072\\1928604172.py:19: FutureWarning: Downcasting behavior in `replace` is deprecated and will be removed in a future version. To retain the old behavior, explicitly call `result.infer_objects(copy=False)`. To opt-in to the future behavior, set `pd.set_option('future.no_silent_downcasting', True)`\n",
      "  df.Citizen.replace({'ByBirth':0,'ByOtherMeans':1,'Temporary':2},inplace=True)\n"
     ]
    },
    {
     "name": "stdout",
     "output_type": "stream",
     "text": [
      "[1]\n",
      "Approved\n"
     ]
    },
    {
     "name": "stderr",
     "output_type": "stream",
     "text": [
      "C:\\Users\\HP\\anaconda3\\Lib\\site-packages\\sklearn\\base.py:493: UserWarning: X does not have valid feature names, but StandardScaler was fitted with feature names\n",
      "  warnings.warn(\n"
     ]
    }
   ],
   "source": [
    "import pandas as pd\n",
    "import numpy as np\n",
    "from sklearn.model_selection import train_test_split\n",
    "from sklearn.preprocessing import StandardScaler\n",
    "from sklearn.ensemble import RandomForestClassifier\n",
    "from datetime import date\n",
    "\n",
    "def calculate_age_float(birth_year, birth_month, birth_day):\n",
    "    today = date.today()\n",
    "    birth_date = date(birth_year, birth_month, birth_day)\n",
    "    days_lived = (today - birth_date).days\n",
    "    age_in_years = days_lived / 365.25  \n",
    "    return age_in_years\n",
    "\n",
    "def creditcard_approval(new_data):\n",
    "    df = pd.read_csv(r\"C:/Users/HP/OneDrive/Desktop/mlpro.csv\" )\n",
    "    df.Industry.replace({'CommunicationServices':0,'ConsumerDiscretionary':1,'ConsumerStaples':2,'Education':3,'Energy':4,'Financials':5,'Healthcare':6,'Industrials':7,'InformationTechnology':8,'Materials':9,'Real Estate':10,'Research':11,'Transport':12,'Utilities':13},inplace=True)\n",
    "    df.Ethnicity.replace({'Asian':0,'Black':1,'Latino':2,'Other':3,'White':4},inplace=True)\n",
    "    df.Citizen.replace({'ByBirth':0,'ByOtherMeans':1,'Temporary':2},inplace=True)\n",
    "    X = df.drop(columns=['Approved'])   \n",
    "    y = df['Approved']\n",
    "    X_train, X_test, y_train, y_test = train_test_split(X, y, test_size=0.2, random_state=42)\n",
    "    scaler = StandardScaler()\n",
    "    X_train = scaler.fit_transform(X_train)\n",
    "    X_test = scaler.transform(X_test)\n",
    "    rf = RandomForestClassifier(n_estimators=100, random_state=42)\n",
    "    rf.fit(X_train, y_train)\n",
    "    y_pred = rf.predict(X_test)\n",
    "    input_data_scaled = scaler.transform(new_data)\n",
    "    prediction  = rf.predict(input_data_scaled)\n",
    "    return prediction\n",
    "    \n",
    "print(\"enter the required details below\")\n",
    "gender=float(input(\"0-female,1-male :-\"))\n",
    "birth_year,birth_month,birth_day=map(int,input(\"enter your dob yymmdd :-\").split())\n",
    "age = calculate_age_float(birth_year, birth_month, birth_day)\n",
    "debt=float(input(\"enter debt :-\"))\n",
    "martial=float(input(\"0-single/divorced,1-married :-\"))\n",
    "bankc=float(input(\"0-not have bank account,1-have bank account :-\"))\n",
    "industry=float(input(\"'CommunicationServices':0,'ConsumerDiscretionary':1,'ConsumerStaples':2,'Education':3,'Energy':4,'Financials':5,'Healthcare':6,'Industrials':7,'InformationTechnology':8,'Materials':9,'Real Estate':10,'Research':11,'Transport':12,'Utilities':13 :-\"))\n",
    "ethin=float(input(\"'Asian':0,'Black':1,'Latino':2,'Other':3,'White':4 :-\"))\n",
    "exp=float(input(\"years employed or experience :-\"))\n",
    "prior=float(input(\"0-no prior defaults,1-prior defaults :-\"))\n",
    "emp=float(input(\"0-not employed,1-enployed :-\"))\n",
    "creditscr=float(input(\"credit score 0-85 :-\"))\n",
    "license=float(input(\"0-no license,1-has license :-\"))\n",
    "cit=float(input(\"'ByBirth':0,'ByOtherMeans':1,'Temporary':2 :-\"))\n",
    "zipc=float(input(\"zipcode :-\"))\n",
    "income=float(input(\"income :-\"))\n",
    "new_data=np.array([gender,age,debt,martial,bankc,industry,ethin,exp,prior,emp,creditscr,license,cit,zipc,income]).reshape(1,-1)\n",
    "prediction=creditcard_approval(new_data)\n",
    "print(prediction)\n",
    "print(\"Approved\" if prediction== 1 else \"Not Approved\")"
   ]
  }
 ],
 "metadata": {
  "kernelspec": {
   "display_name": "Python 3 (ipykernel)",
   "language": "python",
   "name": "python3"
  },
  "language_info": {
   "codemirror_mode": {
    "name": "ipython",
    "version": 3
   },
   "file_extension": ".py",
   "mimetype": "text/x-python",
   "name": "python",
   "nbconvert_exporter": "python",
   "pygments_lexer": "ipython3",
   "version": "3.12.7"
  }
 },
 "nbformat": 4,
 "nbformat_minor": 5
}
